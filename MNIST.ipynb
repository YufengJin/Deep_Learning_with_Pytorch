{
 "cells": [
  {
   "cell_type": "code",
   "execution_count": 1,
   "metadata": {},
   "outputs": [],
   "source": [
    "import torch \n",
    "import torchvision\n",
    "from torchvision import transforms,datasets\n",
    "import matplotlib.pyplot as plt\n",
    "import torch.nn as nn\n",
    "import torch.nn.functional as F\n",
    "import torch.optim as optim\n",
    "\n",
    "train = datasets.MNIST('', train=True, download=True,\n",
    "                       transform=transforms.Compose([\n",
    "                           transforms.ToTensor()\n",
    "                       ]))\n",
    "\n",
    "test = datasets.MNIST('', train=False, download=True,\n",
    "                       transform=transforms.Compose([\n",
    "                           transforms.ToTensor()\n",
    "                       ]))\n"
   ]
  },
  {
   "cell_type": "code",
   "execution_count": 2,
   "metadata": {},
   "outputs": [],
   "source": [
    "\n",
    "'''\n",
    "batch_size: defined size of samples in one data, that means all 6000 samples seperated into 600 parts.\n",
    "'''\n",
    "trainset = torch.utils.data.DataLoader(train,batch_size = 10, shuffle = True)\n",
    "testset = torch.utils.data.DataLoader(test,batch_size = 10, shuffle = True)"
   ]
  },
  {
   "cell_type": "code",
   "execution_count": 3,
   "metadata": {},
   "outputs": [],
   "source": [
    "class Net(nn.Module):\n",
    "\tdef __init__(self):\n",
    "\t\tsuper().__init__()\n",
    "\t\t'''\n",
    "\t\tbuild a rough a neural network with 4 fully connected layers\n",
    "\t\tnn.Linear(input layer, output layer)\t\t\n",
    "\t\t28*28, cos out input image is 28*28\n",
    "\t\toutput is 10, cos we got 0~9, total 10 labels\n",
    "\t\t'''\n",
    "\n",
    "\t\tself.fc1 = nn.Linear(28*28,64)\n",
    "\t\tself.fc2 = nn.Linear(64,64)\n",
    "\t\tself.fc3 = nn.Linear(64,64)\n",
    "\t\tself.fc4 = nn.Linear(64,10)\n",
    "\n",
    "\t'''\n",
    "\tbuild neural network struture, and add activation funtion between layers\n",
    "\twe put softmax function at the end of layers when we dealing with classification problems, cos softmax distribute between 0 and 1.\n",
    "\n",
    "\t'''\n",
    "\tdef forward(self,x):\n",
    "\t\tx = F.relu(self.fc1(x))\n",
    "\t\tx = F.relu(self.fc2(x))\n",
    "\t\tx = F.relu(self.fc3(x))\n",
    "\t\tx = self.fc4(x)\n",
    "\t\t# dim = 1 , cos the output is one dimension.\n",
    "\t\treturn F.log_softmax(x,dim=1)"
   ]
  },
  {
   "cell_type": "code",
   "execution_count": 4,
   "metadata": {},
   "outputs": [],
   "source": [
    "net = Net()\n",
    "\n",
    "optimizer = optim.Adam(net.parameters(),lr=0.001)\n",
    "\n",
    "# train our trainset three times\n",
    "EPOCHS = 3\n",
    "\n",
    "'''\n",
    "train our neural network\n",
    "'''\n",
    "for epoch in range(EPOCHS):\n",
    "\tfor data in trainset:\n",
    "\t\t#data is batch of featuresets and labels\n",
    "\t\tX, y = data\n",
    "\t\tnet.zero_grad()\n",
    "\t\toutput = net(X.view(-1,28*28))\n",
    "\t\tloss = F.nll_loss(output,y)\n",
    "\t\tloss.backward()\n",
    "\t\toptimizer.step()\n"
   ]
  },
  {
   "cell_type": "code",
   "execution_count": 5,
   "metadata": {},
   "outputs": [
    {
     "name": "stdout",
     "output_type": "stream",
     "text": [
      "Accurancy:  0.98\n"
     ]
    }
   ],
   "source": [
    "# calculate the accurany of our model\n",
    "correct = 0\n",
    "total = 0\n",
    "with torch.no_grad():\n",
    "\tfor data in trainset:\n",
    "\t\tX,y = data \n",
    "\t\toutput = net(X.view(-1,28*28))\n",
    "\t\tfor idx, i in enumerate(output):\n",
    "\t\t\tif torch.argmax(i) == y[idx]:\n",
    "\t\t\t\tcorrect += 1\n",
    "\t\t\ttotal += 1\n",
    "\n",
    "print(\"Accurancy: \",round(correct/total,3))\n"
   ]
  },
  {
   "cell_type": "code",
   "execution_count": 6,
   "metadata": {},
   "outputs": [
    {
     "data": {
      "image/png": "[encoded data removed]",
      "text/plain": [
       "<Figure size 432x288 with 1 Axes>"
      ]
     },
     "metadata": {
      "needs_background": "light"
     },
     "output_type": "display_data"
    }
   ],
   "source": [
    "plt.imshow(X[9].view(28,28))\n",
    "plt.show()"
   ]
  },
  {
   "cell_type": "code",
   "execution_count": 7,
   "metadata": {},
   "outputs": [
    {
     "name": "stdout",
     "output_type": "stream",
     "text": [
      "tensor(3, grad_fn=<NotImplemented>)\n"
     ]
    }
   ],
   "source": [
    "print(torch.argmax(net(X[9].view(-1,28*28))))"
   ]
  },
  {
   "cell_type": "code",
   "execution_count": null,
   "metadata": {},
   "outputs": [],
   "source": []
  }
 ],
 "metadata": {
  "kernelspec": {
   "display_name": "Python 3",
   "language": "python",
   "name": "python3"
  },
  "language_info": {
   "codemirror_mode": {
    "name": "ipython",
    "version": 3
   },
   "file_extension": ".py",
   "mimetype": "text/x-python",
   "name": "python",
   "nbconvert_exporter": "python",
   "pygments_lexer": "ipython3",
   "version": "3.7.6"
  }
 },
 "nbformat": 4,
 "nbformat_minor": 4
}
